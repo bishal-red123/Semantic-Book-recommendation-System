{
 "cells": [
  {
   "cell_type": "code",
   "id": "initial_id",
   "metadata": {
    "collapsed": true,
    "ExecuteTime": {
     "end_time": "2025-04-04T05:38:02.633683Z",
     "start_time": "2025-04-04T05:38:02.423920Z"
    }
   },
   "source": [
    "import pandas as pd\n",
    "\n",
    "books = pd.read_csv('books_cleaned.csv')"
   ],
   "outputs": [],
   "execution_count": 2
  },
  {
   "metadata": {
    "ExecuteTime": {
     "end_time": "2025-04-04T05:45:05.738791Z",
     "start_time": "2025-04-04T05:42:11.807891Z"
    }
   },
   "cell_type": "code",
   "source": [
    "from transformers import pipeline\n",
    "classifier = pipeline(\"text-classification\", model=\"j-hartmann/emotion-english-distilroberta-base\"\n",
    "                      ,return_all_scores=True)\n",
    "\n",
    "classifier(\"I love this\")\n"
   ],
   "id": "c0850e6c39d806c0",
   "outputs": [
    {
     "data": {
      "text/plain": [
       "config.json:   0%|          | 0.00/1.00k [00:00<?, ?B/s]"
      ],
      "application/vnd.jupyter.widget-view+json": {
       "version_major": 2,
       "version_minor": 0,
       "model_id": "96c19645657548d69d58722458bc6cda"
      }
     },
     "metadata": {},
     "output_type": "display_data"
    },
    {
     "name": "stderr",
     "output_type": "stream",
     "text": [
      "D:\\Book Recommendation\\.venv\\Lib\\site-packages\\huggingface_hub\\file_download.py:144: UserWarning: `huggingface_hub` cache-system uses symlinks by default to efficiently store duplicated files but your machine does not support them in C:\\Users\\biswa\\.cache\\huggingface\\hub\\models--j-hartmann--emotion-english-distilroberta-base. Caching files will still work but in a degraded version that might require more space on your disk. This warning can be disabled by setting the `HF_HUB_DISABLE_SYMLINKS_WARNING` environment variable. For more details, see https://huggingface.co/docs/huggingface_hub/how-to-cache#limitations.\n",
      "To support symlinks on Windows, you either need to activate Developer Mode or to run Python as an administrator. In order to activate developer mode, see this article: https://docs.microsoft.com/en-us/windows/apps/get-started/enable-your-device-for-development\n",
      "  warnings.warn(message)\n"
     ]
    },
    {
     "name": "stdout",
     "output_type": "stream",
     "text": [
      "WARNING:tensorflow:From D:\\Book Recommendation\\.venv\\Lib\\site-packages\\tf_keras\\src\\losses.py:2976: The name tf.losses.sparse_softmax_cross_entropy is deprecated. Please use tf.compat.v1.losses.sparse_softmax_cross_entropy instead.\n",
      "\n"
     ]
    },
    {
     "name": "stderr",
     "output_type": "stream",
     "text": [
      "Xet Storage is enabled for this repo, but the 'hf_xet' package is not installed. Falling back to regular HTTP download. For better performance, install the package with: `pip install huggingface_hub[hf_xet]` or `pip install hf_xet`\n"
     ]
    },
    {
     "data": {
      "text/plain": [
       "pytorch_model.bin:   0%|          | 0.00/329M [00:00<?, ?B/s]"
      ],
      "application/vnd.jupyter.widget-view+json": {
       "version_major": 2,
       "version_minor": 0,
       "model_id": "f58d85790912475f98dca798c988a6ee"
      }
     },
     "metadata": {},
     "output_type": "display_data"
    },
    {
     "data": {
      "text/plain": [
       "tokenizer_config.json:   0%|          | 0.00/294 [00:00<?, ?B/s]"
      ],
      "application/vnd.jupyter.widget-view+json": {
       "version_major": 2,
       "version_minor": 0,
       "model_id": "ff724e8471c54f928a4b11a9c0abce5d"
      }
     },
     "metadata": {},
     "output_type": "display_data"
    },
    {
     "data": {
      "text/plain": [
       "vocab.json:   0%|          | 0.00/798k [00:00<?, ?B/s]"
      ],
      "application/vnd.jupyter.widget-view+json": {
       "version_major": 2,
       "version_minor": 0,
       "model_id": "8d74cdab12ac4500b8e31856c03f3533"
      }
     },
     "metadata": {},
     "output_type": "display_data"
    },
    {
     "name": "stderr",
     "output_type": "stream",
     "text": [
      "Xet Storage is enabled for this repo, but the 'hf_xet' package is not installed. Falling back to regular HTTP download. For better performance, install the package with: `pip install huggingface_hub[hf_xet]` or `pip install hf_xet`\n"
     ]
    },
    {
     "data": {
      "text/plain": [
       "model.safetensors:   0%|          | 0.00/329M [00:00<?, ?B/s]"
      ],
      "application/vnd.jupyter.widget-view+json": {
       "version_major": 2,
       "version_minor": 0,
       "model_id": "2d01e51d2afa4f509d6c5deb29014929"
      }
     },
     "metadata": {},
     "output_type": "display_data"
    },
    {
     "data": {
      "text/plain": [
       "merges.txt:   0%|          | 0.00/456k [00:00<?, ?B/s]"
      ],
      "application/vnd.jupyter.widget-view+json": {
       "version_major": 2,
       "version_minor": 0,
       "model_id": "072a38a5d994456f8c17b5cd5b2184f3"
      }
     },
     "metadata": {},
     "output_type": "display_data"
    },
    {
     "data": {
      "text/plain": [
       "tokenizer.json:   0%|          | 0.00/1.36M [00:00<?, ?B/s]"
      ],
      "application/vnd.jupyter.widget-view+json": {
       "version_major": 2,
       "version_minor": 0,
       "model_id": "926ca11927ff4207a3747f3c65500972"
      }
     },
     "metadata": {},
     "output_type": "display_data"
    },
    {
     "data": {
      "text/plain": [
       "special_tokens_map.json:   0%|          | 0.00/239 [00:00<?, ?B/s]"
      ],
      "application/vnd.jupyter.widget-view+json": {
       "version_major": 2,
       "version_minor": 0,
       "model_id": "cf1097a8834140efa55b8cc128267f82"
      }
     },
     "metadata": {},
     "output_type": "display_data"
    },
    {
     "name": "stderr",
     "output_type": "stream",
     "text": [
      "Device set to use cpu\n",
      "D:\\Book Recommendation\\.venv\\Lib\\site-packages\\transformers\\pipelines\\text_classification.py:106: UserWarning: `return_all_scores` is now deprecated,  if want a similar functionality use `top_k=None` instead of `return_all_scores=True` or `top_k=1` instead of `return_all_scores=False`.\n",
      "  warnings.warn(\n"
     ]
    },
    {
     "data": {
      "text/plain": [
       "[[{'label': 'anger', 'score': 0.0013875303557142615},\n",
       "  {'label': 'disgust', 'score': 0.0007134026964195073},\n",
       "  {'label': 'fear', 'score': 0.0003984913637395948},\n",
       "  {'label': 'joy', 'score': 0.9845667481422424},\n",
       "  {'label': 'neutral', 'score': 0.0034752979408949614},\n",
       "  {'label': 'sadness', 'score': 0.004531427752226591},\n",
       "  {'label': 'surprise', 'score': 0.00492720166221261}]]"
      ]
     },
     "execution_count": 3,
     "metadata": {},
     "output_type": "execute_result"
    }
   ],
   "execution_count": 3
  },
  {
   "metadata": {
    "ExecuteTime": {
     "end_time": "2025-04-04T05:45:07.693055Z",
     "start_time": "2025-04-04T05:45:06.105357Z"
    }
   },
   "cell_type": "code",
   "source": [
    "from transformers import pipeline\n",
    "classifier = pipeline(\"text-classification\", model=\"j-hartmann/emotion-english-distilroberta-base\",\n",
    "                      top_k=None,\n",
    "                      device=\"cpu\",)\n",
    "\n",
    "classifier(\"I love this\")"
   ],
   "id": "b1dedf4c92fa7eaf",
   "outputs": [
    {
     "name": "stderr",
     "output_type": "stream",
     "text": [
      "Device set to use cpu\n"
     ]
    },
    {
     "data": {
      "text/plain": [
       "[[{'label': 'joy', 'score': 0.9845667481422424},\n",
       "  {'label': 'surprise', 'score': 0.00492720166221261},\n",
       "  {'label': 'sadness', 'score': 0.004531427752226591},\n",
       "  {'label': 'neutral', 'score': 0.0034752979408949614},\n",
       "  {'label': 'anger', 'score': 0.0013875303557142615},\n",
       "  {'label': 'disgust', 'score': 0.0007134026964195073},\n",
       "  {'label': 'fear', 'score': 0.0003984913637395948}]]"
      ]
     },
     "execution_count": 4,
     "metadata": {},
     "output_type": "execute_result"
    }
   ],
   "execution_count": 4
  },
  {
   "metadata": {},
   "cell_type": "markdown",
   "source": "",
   "id": "1746d9056c99f4e9"
  },
  {
   "metadata": {
    "ExecuteTime": {
     "end_time": "2025-04-04T05:46:22.758643Z",
     "start_time": "2025-04-04T05:46:22.035731Z"
    }
   },
   "cell_type": "code",
   "source": "classifier(books[\"description\"][0])",
   "id": "985ad1916808eaf2",
   "outputs": [
    {
     "data": {
      "text/plain": [
       "[[{'label': 'fear', 'score': 0.6548405885696411},\n",
       "  {'label': 'neutral', 'score': 0.16985228657722473},\n",
       "  {'label': 'sadness', 'score': 0.11640921980142593},\n",
       "  {'label': 'surprise', 'score': 0.02070065587759018},\n",
       "  {'label': 'disgust', 'score': 0.019100677222013474},\n",
       "  {'label': 'joy', 'score': 0.01516144908964634},\n",
       "  {'label': 'anger', 'score': 0.003935146611183882}]]"
      ]
     },
     "execution_count": 8,
     "metadata": {},
     "output_type": "execute_result"
    }
   ],
   "execution_count": 8
  },
  {
   "metadata": {
    "ExecuteTime": {
     "end_time": "2025-04-04T05:48:36.868754Z",
     "start_time": "2025-04-04T05:48:36.020503Z"
    }
   },
   "cell_type": "code",
   "source": "classifier(books[\"description\"][0].split(\".\"))",
   "id": "e0b78f8241e6c973",
   "outputs": [
    {
     "data": {
      "text/plain": [
       "[[{'label': 'surprise', 'score': 0.7296020984649658},\n",
       "  {'label': 'neutral', 'score': 0.14038600027561188},\n",
       "  {'label': 'fear', 'score': 0.06816228479146957},\n",
       "  {'label': 'joy', 'score': 0.04794260859489441},\n",
       "  {'label': 'anger', 'score': 0.009156366810202599},\n",
       "  {'label': 'disgust', 'score': 0.0026284765917807817},\n",
       "  {'label': 'sadness', 'score': 0.002122163539752364}],\n",
       " [{'label': 'neutral', 'score': 0.44937002658843994},\n",
       "  {'label': 'disgust', 'score': 0.27359163761138916},\n",
       "  {'label': 'joy', 'score': 0.10908330976963043},\n",
       "  {'label': 'sadness', 'score': 0.09362746775150299},\n",
       "  {'label': 'anger', 'score': 0.04047830402851105},\n",
       "  {'label': 'surprise', 'score': 0.026970159262418747},\n",
       "  {'label': 'fear', 'score': 0.006879047024995089}],\n",
       " [{'label': 'neutral', 'score': 0.6462159752845764},\n",
       "  {'label': 'sadness', 'score': 0.24273329973220825},\n",
       "  {'label': 'disgust', 'score': 0.04342271760106087},\n",
       "  {'label': 'surprise', 'score': 0.028300564736127853},\n",
       "  {'label': 'joy', 'score': 0.014211472123861313},\n",
       "  {'label': 'fear', 'score': 0.0140841044485569},\n",
       "  {'label': 'anger', 'score': 0.011031901463866234}],\n",
       " [{'label': 'fear', 'score': 0.9281681180000305},\n",
       "  {'label': 'anger', 'score': 0.032191041857004166},\n",
       "  {'label': 'neutral', 'score': 0.01280867587774992},\n",
       "  {'label': 'sadness', 'score': 0.008756861090660095},\n",
       "  {'label': 'surprise', 'score': 0.008597906678915024},\n",
       "  {'label': 'disgust', 'score': 0.008431818336248398},\n",
       "  {'label': 'joy', 'score': 0.0010455837473273277}],\n",
       " [{'label': 'sadness', 'score': 0.9671575427055359},\n",
       "  {'label': 'neutral', 'score': 0.015104127116501331},\n",
       "  {'label': 'disgust', 'score': 0.006480589509010315},\n",
       "  {'label': 'fear', 'score': 0.005393980070948601},\n",
       "  {'label': 'surprise', 'score': 0.002286937553435564},\n",
       "  {'label': 'anger', 'score': 0.0018428878393024206},\n",
       "  {'label': 'joy', 'score': 0.0017338756006211042}],\n",
       " [{'label': 'joy', 'score': 0.932798445224762},\n",
       "  {'label': 'disgust', 'score': 0.0377168171107769},\n",
       "  {'label': 'neutral', 'score': 0.015891803428530693},\n",
       "  {'label': 'sadness', 'score': 0.006444480270147324},\n",
       "  {'label': 'anger', 'score': 0.005024945829063654},\n",
       "  {'label': 'surprise', 'score': 0.0015812049387022853},\n",
       "  {'label': 'fear', 'score': 0.0005423048860393465}],\n",
       " [{'label': 'joy', 'score': 0.6528708338737488},\n",
       "  {'label': 'neutral', 'score': 0.25427478551864624},\n",
       "  {'label': 'surprise', 'score': 0.06808284670114517},\n",
       "  {'label': 'sadness', 'score': 0.009908987209200859},\n",
       "  {'label': 'disgust', 'score': 0.0065122200176119804},\n",
       "  {'label': 'anger', 'score': 0.004821304697543383},\n",
       "  {'label': 'fear', 'score': 0.0035290175583213568}],\n",
       " [{'label': 'neutral', 'score': 0.5494767427444458},\n",
       "  {'label': 'sadness', 'score': 0.11169017851352692},\n",
       "  {'label': 'disgust', 'score': 0.10400667786598206},\n",
       "  {'label': 'surprise', 'score': 0.07876550406217575},\n",
       "  {'label': 'anger', 'score': 0.0641336441040039},\n",
       "  {'label': 'fear', 'score': 0.05136283114552498},\n",
       "  {'label': 'joy', 'score': 0.04056443274021149}]]"
      ]
     },
     "execution_count": 12,
     "metadata": {},
     "output_type": "execute_result"
    }
   ],
   "execution_count": 12
  },
  {
   "metadata": {
    "ExecuteTime": {
     "end_time": "2025-04-04T05:49:45.619654Z",
     "start_time": "2025-04-04T05:49:45.037782Z"
    }
   },
   "cell_type": "code",
   "source": [
    "sentences=books[\"description\"][0].split(\".\")\n",
    "predictions=classifier(sentences)"
   ],
   "id": "8d58dda096a9767c",
   "outputs": [],
   "execution_count": 13
  },
  {
   "metadata": {
    "ExecuteTime": {
     "end_time": "2025-04-04T05:49:57.816694Z",
     "start_time": "2025-04-04T05:49:57.794785Z"
    }
   },
   "cell_type": "code",
   "source": "sentences[0]",
   "id": "28a13edcb84d74ca",
   "outputs": [
    {
     "data": {
      "text/plain": [
       "'A NOVEL THAT READERS and critics have been eagerly anticipating for over a decade, Gilead is an astonishingly imagined story of remarkable lives'"
      ]
     },
     "execution_count": 14,
     "metadata": {},
     "output_type": "execute_result"
    }
   ],
   "execution_count": 14
  },
  {
   "metadata": {
    "ExecuteTime": {
     "end_time": "2025-04-04T05:50:03.893453Z",
     "start_time": "2025-04-04T05:50:03.882933Z"
    }
   },
   "cell_type": "code",
   "source": "predictions[0]",
   "id": "cb12c1cd107d38f6",
   "outputs": [
    {
     "data": {
      "text/plain": [
       "[{'label': 'surprise', 'score': 0.7296020984649658},\n",
       " {'label': 'neutral', 'score': 0.14038600027561188},\n",
       " {'label': 'fear', 'score': 0.06816228479146957},\n",
       " {'label': 'joy', 'score': 0.04794260859489441},\n",
       " {'label': 'anger', 'score': 0.009156366810202599},\n",
       " {'label': 'disgust', 'score': 0.0026284765917807817},\n",
       " {'label': 'sadness', 'score': 0.002122163539752364}]"
      ]
     },
     "execution_count": 15,
     "metadata": {},
     "output_type": "execute_result"
    }
   ],
   "execution_count": 15
  },
  {
   "metadata": {
    "ExecuteTime": {
     "end_time": "2025-04-04T05:50:12.094020Z",
     "start_time": "2025-04-04T05:50:12.081560Z"
    }
   },
   "cell_type": "code",
   "source": "sentences[3]",
   "id": "ee780fd461b1da50",
   "outputs": [
    {
     "data": {
      "text/plain": [
       "' Haunted by his grandfather’s presence, John tells of the rift between his grandfather and his father: the elder, an angry visionary who fought for the abolitionist cause, and his son, an ardent pacifist'"
      ]
     },
     "execution_count": 16,
     "metadata": {},
     "output_type": "execute_result"
    }
   ],
   "execution_count": 16
  },
  {
   "metadata": {
    "ExecuteTime": {
     "end_time": "2025-04-04T05:50:15.856299Z",
     "start_time": "2025-04-04T05:50:15.846828Z"
    }
   },
   "cell_type": "code",
   "source": "predictions[3]",
   "id": "7b3109f99150da9a",
   "outputs": [
    {
     "data": {
      "text/plain": [
       "[{'label': 'fear', 'score': 0.9281681180000305},\n",
       " {'label': 'anger', 'score': 0.032191041857004166},\n",
       " {'label': 'neutral', 'score': 0.01280867587774992},\n",
       " {'label': 'sadness', 'score': 0.008756861090660095},\n",
       " {'label': 'surprise', 'score': 0.008597906678915024},\n",
       " {'label': 'disgust', 'score': 0.008431818336248398},\n",
       " {'label': 'joy', 'score': 0.0010455837473273277}]"
      ]
     },
     "execution_count": 17,
     "metadata": {},
     "output_type": "execute_result"
    }
   ],
   "execution_count": 17
  },
  {
   "metadata": {
    "ExecuteTime": {
     "end_time": "2025-04-04T05:54:49.831313Z",
     "start_time": "2025-04-04T05:54:49.818641Z"
    }
   },
   "cell_type": "code",
   "source": "sorted(predictions[0],key=lambda x:x[\"label\"])",
   "id": "66c1c34a917863aa",
   "outputs": [
    {
     "data": {
      "text/plain": [
       "[{'label': 'anger', 'score': 0.009156366810202599},\n",
       " {'label': 'disgust', 'score': 0.0026284765917807817},\n",
       " {'label': 'fear', 'score': 0.06816228479146957},\n",
       " {'label': 'joy', 'score': 0.04794260859489441},\n",
       " {'label': 'neutral', 'score': 0.14038600027561188},\n",
       " {'label': 'sadness', 'score': 0.002122163539752364},\n",
       " {'label': 'surprise', 'score': 0.7296020984649658}]"
      ]
     },
     "execution_count": 18,
     "metadata": {},
     "output_type": "execute_result"
    }
   ],
   "execution_count": 18
  },
  {
   "metadata": {
    "ExecuteTime": {
     "end_time": "2025-04-04T06:01:19.001398Z",
     "start_time": "2025-04-04T06:01:18.991897Z"
    }
   },
   "cell_type": "code",
   "source": [
    "import numpy as np\n",
    "emotion_labels=[\"anger\",\"disgust\",\"fear\",\"sadness\",\"surprise\",\"joy\",\"neutral\"]\n",
    "isbn=[]\n",
    "emotion_scores={label:[]for label in emotion_labels}\n",
    "\n",
    "\n",
    "def calculate_max_emotion_score(predictions):\n",
    "    per_emotion_scores={label:[]for label in emotion_labels}\n",
    "    for prediction in predictions:\n",
    "        sorted_prediction=sorted(prediction,key=lambda x:x[\"label\"])\n",
    "        for index,label in enumerate(emotion_labels):\n",
    "            per_emotion_scores[label].append(sorted_prediction[index][\"score\"])\n",
    "    return  {label: np.max(scores) for label,scores in per_emotion_scores.items()}"
   ],
   "id": "bddcbff9c49af6b4",
   "outputs": [],
   "execution_count": 24
  },
  {
   "metadata": {
    "ExecuteTime": {
     "end_time": "2025-04-04T06:01:23.276580Z",
     "start_time": "2025-04-04T06:01:19.805901Z"
    }
   },
   "cell_type": "code",
   "source": [
    "for i in range(10):\n",
    "    isbn.append(books[\"isbn13\"][i])\n",
    "    sentences=books[\"description\"][i].split(\".\")\n",
    "    predictions=classifier(sentences)\n",
    "    max_scores=calculate_max_emotion_score(predictions)\n",
    "    for label in emotion_labels:\n",
    "        emotion_scores[label].append(max_scores[label])"
   ],
   "id": "f102d3ae50065489",
   "outputs": [],
   "execution_count": 25
  },
  {
   "metadata": {
    "ExecuteTime": {
     "end_time": "2025-04-04T06:01:35.194328Z",
     "start_time": "2025-04-04T06:01:35.182087Z"
    }
   },
   "cell_type": "code",
   "source": "emotion_scores",
   "id": "fb531f25d67ad1d5",
   "outputs": [
    {
     "data": {
      "text/plain": [
       "{'anger': [0.0641336441040039,\n",
       "  0.6126197576522827,\n",
       "  0.0641336441040039,\n",
       "  0.35148438811302185,\n",
       "  0.08141235262155533,\n",
       "  0.2322252243757248,\n",
       "  0.5381842255592346,\n",
       "  0.0641336441040039,\n",
       "  0.3006700277328491,\n",
       "  0.0641336441040039],\n",
       " 'disgust': [0.27359163761138916,\n",
       "  0.3482847511768341,\n",
       "  0.10400667786598206,\n",
       "  0.1507224589586258,\n",
       "  0.18449543416500092,\n",
       "  0.7271744608879089,\n",
       "  0.155854731798172,\n",
       "  0.10400667786598206,\n",
       "  0.2794816195964813,\n",
       "  0.17792661488056183],\n",
       " 'fear': [0.9281681180000305,\n",
       "  0.9425276517868042,\n",
       "  0.9723208546638489,\n",
       "  0.3607059419155121,\n",
       "  0.09504334628582001,\n",
       "  0.05136283114552498,\n",
       "  0.7474274635314941,\n",
       "  0.4044976532459259,\n",
       "  0.9155241250991821,\n",
       "  0.05136283114552498],\n",
       " 'sadness': [0.932798445224762,\n",
       "  0.7044219970703125,\n",
       "  0.7672380805015564,\n",
       "  0.25188151001930237,\n",
       "  0.04056443274021149,\n",
       "  0.043375786393880844,\n",
       "  0.872565746307373,\n",
       "  0.04056443274021149,\n",
       "  0.04056443274021149,\n",
       "  0.04056443274021149],\n",
       " 'surprise': [0.6462159752845764,\n",
       "  0.8879395127296448,\n",
       "  0.5494767427444458,\n",
       "  0.7326844930648804,\n",
       "  0.8843896985054016,\n",
       "  0.621392011642456,\n",
       "  0.7121941447257996,\n",
       "  0.5494767427444458,\n",
       "  0.840289294719696,\n",
       "  0.8603722453117371],\n",
       " 'joy': [0.9671575427055359,\n",
       "  0.11169017851352692,\n",
       "  0.11169017851352692,\n",
       "  0.11169017851352692,\n",
       "  0.47588032484054565,\n",
       "  0.11169017851352692,\n",
       "  0.40800127387046814,\n",
       "  0.8202826380729675,\n",
       "  0.35446077585220337,\n",
       "  0.11169017851352692],\n",
       " 'neutral': [0.7296020984649658,\n",
       "  0.252546101808548,\n",
       "  0.07876550406217575,\n",
       "  0.07876550406217575,\n",
       "  0.07876550406217575,\n",
       "  0.27190330624580383,\n",
       "  0.07876550406217575,\n",
       "  0.2344866842031479,\n",
       "  0.13561423122882843,\n",
       "  0.07876550406217575]}"
      ]
     },
     "execution_count": 26,
     "metadata": {},
     "output_type": "execute_result"
    }
   ],
   "execution_count": 26
  },
  {
   "metadata": {
    "ExecuteTime": {
     "end_time": "2025-04-04T06:26:14.010339Z",
     "start_time": "2025-04-04T06:03:14.736182Z"
    }
   },
   "cell_type": "code",
   "source": [
    "from tqdm import tqdm\n",
    "\n",
    "emotion_labels=[\"anger\",\"disgust\",\"fear\",\"sadness\",\"surprise\",\"joy\",\"neutral\"]\n",
    "isbn=[]\n",
    "emotion_scores={label:[]for label in emotion_labels}\n",
    "\n",
    "\n",
    "\n",
    "for i in tqdm(range(len(books))):\n",
    "    isbn.append(books[\"isbn13\"][i])\n",
    "    sentences=books[\"description\"][i].split(\".\")\n",
    "    predictions=classifier(sentences)\n",
    "    max_scores=calculate_max_emotion_score(predictions)\n",
    "    for label in emotion_labels:\n",
    "        emotion_scores[label].append(max_scores[label])"
   ],
   "id": "93affc48dac9d733",
   "outputs": [
    {
     "name": "stderr",
     "output_type": "stream",
     "text": [
      "100%|██████████| 5197/5197 [22:59<00:00,  3.77it/s]  \n"
     ]
    }
   ],
   "execution_count": 27
  },
  {
   "metadata": {
    "ExecuteTime": {
     "end_time": "2025-04-04T06:54:59.596120Z",
     "start_time": "2025-04-04T06:54:59.518658Z"
    }
   },
   "cell_type": "code",
   "source": [
    "\n",
    "emotions_df = pd.DataFrame(emotion_scores)\n",
    "emotions_df[\"isbn13\"] = isbn"
   ],
   "id": "58589bafb7e4b81f",
   "outputs": [],
   "execution_count": 30
  },
  {
   "metadata": {
    "ExecuteTime": {
     "end_time": "2025-04-04T06:55:00.986053Z",
     "start_time": "2025-04-04T06:55:00.813506Z"
    }
   },
   "cell_type": "code",
   "source": "emotions_df",
   "id": "e2f11ec424514249",
   "outputs": [
    {
     "data": {
      "text/plain": [
       "         anger   disgust      fear   sadness  surprise       joy   neutral  \\\n",
       "0     0.064134  0.273592  0.928168  0.932798  0.646216  0.967158  0.729602   \n",
       "1     0.612620  0.348285  0.942528  0.704422  0.887940  0.111690  0.252546   \n",
       "2     0.064134  0.104007  0.972321  0.767238  0.549477  0.111690  0.078766   \n",
       "3     0.351484  0.150722  0.360706  0.251882  0.732684  0.111690  0.078766   \n",
       "4     0.081412  0.184495  0.095043  0.040564  0.884390  0.475880  0.078766   \n",
       "...        ...       ...       ...       ...       ...       ...       ...   \n",
       "5192  0.148208  0.030643  0.919165  0.255172  0.853721  0.980877  0.030656   \n",
       "5193  0.064134  0.114383  0.051363  0.400262  0.883198  0.111690  0.227765   \n",
       "5194  0.009997  0.009929  0.339218  0.947779  0.375754  0.066685  0.057625   \n",
       "5195  0.064134  0.104007  0.459269  0.759457  0.951104  0.368111  0.078766   \n",
       "5196  0.064134  0.104007  0.051363  0.958549  0.915193  0.111690  0.078766   \n",
       "\n",
       "             isbn13  \n",
       "0     9780002005883  \n",
       "1     9780002261982  \n",
       "2     9780006178736  \n",
       "3     9780006280897  \n",
       "4     9780006280934  \n",
       "...             ...  \n",
       "5192  9788172235222  \n",
       "5193  9788173031014  \n",
       "5194  9788179921623  \n",
       "5195  9788185300535  \n",
       "5196  9789027712059  \n",
       "\n",
       "[5197 rows x 8 columns]"
      ],
      "text/html": [
       "<div>\n",
       "<style scoped>\n",
       "    .dataframe tbody tr th:only-of-type {\n",
       "        vertical-align: middle;\n",
       "    }\n",
       "\n",
       "    .dataframe tbody tr th {\n",
       "        vertical-align: top;\n",
       "    }\n",
       "\n",
       "    .dataframe thead th {\n",
       "        text-align: right;\n",
       "    }\n",
       "</style>\n",
       "<table border=\"1\" class=\"dataframe\">\n",
       "  <thead>\n",
       "    <tr style=\"text-align: right;\">\n",
       "      <th></th>\n",
       "      <th>anger</th>\n",
       "      <th>disgust</th>\n",
       "      <th>fear</th>\n",
       "      <th>sadness</th>\n",
       "      <th>surprise</th>\n",
       "      <th>joy</th>\n",
       "      <th>neutral</th>\n",
       "      <th>isbn13</th>\n",
       "    </tr>\n",
       "  </thead>\n",
       "  <tbody>\n",
       "    <tr>\n",
       "      <th>0</th>\n",
       "      <td>0.064134</td>\n",
       "      <td>0.273592</td>\n",
       "      <td>0.928168</td>\n",
       "      <td>0.932798</td>\n",
       "      <td>0.646216</td>\n",
       "      <td>0.967158</td>\n",
       "      <td>0.729602</td>\n",
       "      <td>9780002005883</td>\n",
       "    </tr>\n",
       "    <tr>\n",
       "      <th>1</th>\n",
       "      <td>0.612620</td>\n",
       "      <td>0.348285</td>\n",
       "      <td>0.942528</td>\n",
       "      <td>0.704422</td>\n",
       "      <td>0.887940</td>\n",
       "      <td>0.111690</td>\n",
       "      <td>0.252546</td>\n",
       "      <td>9780002261982</td>\n",
       "    </tr>\n",
       "    <tr>\n",
       "      <th>2</th>\n",
       "      <td>0.064134</td>\n",
       "      <td>0.104007</td>\n",
       "      <td>0.972321</td>\n",
       "      <td>0.767238</td>\n",
       "      <td>0.549477</td>\n",
       "      <td>0.111690</td>\n",
       "      <td>0.078766</td>\n",
       "      <td>9780006178736</td>\n",
       "    </tr>\n",
       "    <tr>\n",
       "      <th>3</th>\n",
       "      <td>0.351484</td>\n",
       "      <td>0.150722</td>\n",
       "      <td>0.360706</td>\n",
       "      <td>0.251882</td>\n",
       "      <td>0.732684</td>\n",
       "      <td>0.111690</td>\n",
       "      <td>0.078766</td>\n",
       "      <td>9780006280897</td>\n",
       "    </tr>\n",
       "    <tr>\n",
       "      <th>4</th>\n",
       "      <td>0.081412</td>\n",
       "      <td>0.184495</td>\n",
       "      <td>0.095043</td>\n",
       "      <td>0.040564</td>\n",
       "      <td>0.884390</td>\n",
       "      <td>0.475880</td>\n",
       "      <td>0.078766</td>\n",
       "      <td>9780006280934</td>\n",
       "    </tr>\n",
       "    <tr>\n",
       "      <th>...</th>\n",
       "      <td>...</td>\n",
       "      <td>...</td>\n",
       "      <td>...</td>\n",
       "      <td>...</td>\n",
       "      <td>...</td>\n",
       "      <td>...</td>\n",
       "      <td>...</td>\n",
       "      <td>...</td>\n",
       "    </tr>\n",
       "    <tr>\n",
       "      <th>5192</th>\n",
       "      <td>0.148208</td>\n",
       "      <td>0.030643</td>\n",
       "      <td>0.919165</td>\n",
       "      <td>0.255172</td>\n",
       "      <td>0.853721</td>\n",
       "      <td>0.980877</td>\n",
       "      <td>0.030656</td>\n",
       "      <td>9788172235222</td>\n",
       "    </tr>\n",
       "    <tr>\n",
       "      <th>5193</th>\n",
       "      <td>0.064134</td>\n",
       "      <td>0.114383</td>\n",
       "      <td>0.051363</td>\n",
       "      <td>0.400262</td>\n",
       "      <td>0.883198</td>\n",
       "      <td>0.111690</td>\n",
       "      <td>0.227765</td>\n",
       "      <td>9788173031014</td>\n",
       "    </tr>\n",
       "    <tr>\n",
       "      <th>5194</th>\n",
       "      <td>0.009997</td>\n",
       "      <td>0.009929</td>\n",
       "      <td>0.339218</td>\n",
       "      <td>0.947779</td>\n",
       "      <td>0.375754</td>\n",
       "      <td>0.066685</td>\n",
       "      <td>0.057625</td>\n",
       "      <td>9788179921623</td>\n",
       "    </tr>\n",
       "    <tr>\n",
       "      <th>5195</th>\n",
       "      <td>0.064134</td>\n",
       "      <td>0.104007</td>\n",
       "      <td>0.459269</td>\n",
       "      <td>0.759457</td>\n",
       "      <td>0.951104</td>\n",
       "      <td>0.368111</td>\n",
       "      <td>0.078766</td>\n",
       "      <td>9788185300535</td>\n",
       "    </tr>\n",
       "    <tr>\n",
       "      <th>5196</th>\n",
       "      <td>0.064134</td>\n",
       "      <td>0.104007</td>\n",
       "      <td>0.051363</td>\n",
       "      <td>0.958549</td>\n",
       "      <td>0.915193</td>\n",
       "      <td>0.111690</td>\n",
       "      <td>0.078766</td>\n",
       "      <td>9789027712059</td>\n",
       "    </tr>\n",
       "  </tbody>\n",
       "</table>\n",
       "<p>5197 rows × 8 columns</p>\n",
       "</div>"
      ]
     },
     "execution_count": 31,
     "metadata": {},
     "output_type": "execute_result"
    }
   ],
   "execution_count": 31
  },
  {
   "metadata": {
    "ExecuteTime": {
     "end_time": "2025-04-04T06:55:35.938719Z",
     "start_time": "2025-04-04T06:55:35.713968Z"
    }
   },
   "cell_type": "code",
   "source": "books=pd.merge(books,emotions_df,on=\"isbn13\")",
   "id": "a814b427f2473316",
   "outputs": [],
   "execution_count": 32
  },
  {
   "metadata": {
    "ExecuteTime": {
     "end_time": "2025-04-04T06:55:38.129265Z",
     "start_time": "2025-04-04T06:55:37.948787Z"
    }
   },
   "cell_type": "code",
   "source": "books",
   "id": "3126384072a646ef",
   "outputs": [
    {
     "data": {
      "text/plain": [
       "             isbn13      isbn10  \\\n",
       "0     9780002005883  0002005883   \n",
       "1     9780002261982  0002261987   \n",
       "2     9780006178736  0006178731   \n",
       "3     9780006280897  0006280897   \n",
       "4     9780006280934  0006280935   \n",
       "...             ...         ...   \n",
       "5192  9788172235222  8172235224   \n",
       "5193  9788173031014  8173031010   \n",
       "5194  9788179921623  817992162X   \n",
       "5195  9788185300535  8185300534   \n",
       "5196  9789027712059  9027712050   \n",
       "\n",
       "                                                  title  \\\n",
       "0                                                Gilead   \n",
       "1                                          Spider's Web   \n",
       "2                                        Rage of angels   \n",
       "3                                        The Four Loves   \n",
       "4                                   The Problem of Pain   \n",
       "...                                                 ...   \n",
       "5192                                  Mistaken Identity   \n",
       "5193                                Journey to the East   \n",
       "5194  The Monk Who Sold His Ferrari: A Fable About F...   \n",
       "5195                                          I Am that   \n",
       "5196                           The Berlin Phenomenology   \n",
       "\n",
       "                                           authors  \\\n",
       "0                               Marilynne Robinson   \n",
       "1                  Charles Osborne;Agatha Christie   \n",
       "2                                   Sidney Sheldon   \n",
       "3                              Clive Staples Lewis   \n",
       "4                              Clive Staples Lewis   \n",
       "...                                            ...   \n",
       "5192                              Nayantara Sahgal   \n",
       "5193                                 Hermann Hesse   \n",
       "5194                                  Robin Sharma   \n",
       "5195  Sri Nisargadatta Maharaj;Sudhakar S. Dikshit   \n",
       "5196                 Georg Wilhelm Friedrich Hegel   \n",
       "\n",
       "                         categories  \\\n",
       "0                           Fiction   \n",
       "1     Detective and mystery stories   \n",
       "2                           Fiction   \n",
       "3                    Christian life   \n",
       "4                    Christian life   \n",
       "...                             ...   \n",
       "5192        Indic fiction (English)   \n",
       "5193              Adventure stories   \n",
       "5194               Health & Fitness   \n",
       "5195                     Philosophy   \n",
       "5196                        History   \n",
       "\n",
       "                                              thumbnail  \\\n",
       "0     http://books.google.com/books/content?id=KQZCP...   \n",
       "1     http://books.google.com/books/content?id=gA5GP...   \n",
       "2     http://books.google.com/books/content?id=FKo2T...   \n",
       "3     http://books.google.com/books/content?id=XhQ5X...   \n",
       "4     http://books.google.com/books/content?id=Kk-uV...   \n",
       "...                                                 ...   \n",
       "5192  http://books.google.com/books/content?id=q-tKP...   \n",
       "5193  http://books.google.com/books/content?id=rq6JP...   \n",
       "5194  http://books.google.com/books/content?id=c_7mf...   \n",
       "5195  http://books.google.com/books/content?id=Fv_JP...   \n",
       "5196  http://books.google.com/books/content?id=Vy7Sk...   \n",
       "\n",
       "                                            description  published_year  \\\n",
       "0     A NOVEL THAT READERS and critics have been eag...          2004.0   \n",
       "1     A new 'Christie for Christmas' -- a full-lengt...          2000.0   \n",
       "2     A memorable, mesmerizing heroine Jennifer -- b...          1993.0   \n",
       "3     Lewis' work on the nature of love divides love...          2002.0   \n",
       "4     \"In The Problem of Pain, C.S. Lewis, one of th...          2002.0   \n",
       "...                                                 ...             ...   \n",
       "5192  On A Train Journey Home To North India After L...          2003.0   \n",
       "5193  This book tells the tale of a man who goes on ...          2002.0   \n",
       "5194  Wisdom to Create a Life of Passion, Purpose, a...          2003.0   \n",
       "5195  This collection of the timeless teachings of o...          1999.0   \n",
       "5196  Since the three volume edition ofHegel's Philo...          1981.0   \n",
       "\n",
       "      average_rating  num_pages  ratings_count  \\\n",
       "0               3.85      247.0          361.0   \n",
       "1               3.83      241.0         5164.0   \n",
       "2               3.93      512.0        29532.0   \n",
       "3               4.15      170.0        33684.0   \n",
       "4               4.09      176.0        37569.0   \n",
       "...              ...        ...            ...   \n",
       "5192            2.93      324.0            0.0   \n",
       "5193            3.70      175.0           24.0   \n",
       "5194            3.82      198.0         1568.0   \n",
       "5195            4.51      531.0          104.0   \n",
       "5196            0.00      210.0            0.0   \n",
       "\n",
       "                                     title_and_subtitle  \\\n",
       "0                                                Gilead   \n",
       "1                                 Spider's Web: A Novel   \n",
       "2                                        Rage of angels   \n",
       "3                                        The Four Loves   \n",
       "4                                   The Problem of Pain   \n",
       "...                                                 ...   \n",
       "5192                                  Mistaken Identity   \n",
       "5193                                Journey to the East   \n",
       "5194  The Monk Who Sold His Ferrari: A Fable About F...   \n",
       "5195     I Am that: Talks with Sri Nisargadatta Maharaj   \n",
       "5196                           The Berlin Phenomenology   \n",
       "\n",
       "                                     tagged_description     anger   disgust  \\\n",
       "0     9780002005883 A NOVEL THAT READERS and critics...  0.064134  0.273592   \n",
       "1     9780002261982 A new 'Christie for Christmas' -...  0.612620  0.348285   \n",
       "2     9780006178736 A memorable, mesmerizing heroine...  0.064134  0.104007   \n",
       "3     9780006280897 Lewis' work on the nature of lov...  0.351484  0.150722   \n",
       "4     9780006280934 \"In The Problem of Pain, C.S. Le...  0.081412  0.184495   \n",
       "...                                                 ...       ...       ...   \n",
       "5192  9788172235222 On A Train Journey Home To North...  0.148208  0.030643   \n",
       "5193  9788173031014 This book tells the tale of a ma...  0.064134  0.114383   \n",
       "5194  9788179921623 Wisdom to Create a Life of Passi...  0.009997  0.009929   \n",
       "5195  9788185300535 This collection of the timeless ...  0.064134  0.104007   \n",
       "5196  9789027712059 Since the three volume edition o...  0.064134  0.104007   \n",
       "\n",
       "          fear   sadness  surprise       joy   neutral  \n",
       "0     0.928168  0.932798  0.646216  0.967158  0.729602  \n",
       "1     0.942528  0.704422  0.887940  0.111690  0.252546  \n",
       "2     0.972321  0.767238  0.549477  0.111690  0.078766  \n",
       "3     0.360706  0.251882  0.732684  0.111690  0.078766  \n",
       "4     0.095043  0.040564  0.884390  0.475880  0.078766  \n",
       "...        ...       ...       ...       ...       ...  \n",
       "5192  0.919165  0.255172  0.853721  0.980877  0.030656  \n",
       "5193  0.051363  0.400262  0.883198  0.111690  0.227765  \n",
       "5194  0.339218  0.947779  0.375754  0.066685  0.057625  \n",
       "5195  0.459269  0.759457  0.951104  0.368111  0.078766  \n",
       "5196  0.051363  0.958549  0.915193  0.111690  0.078766  \n",
       "\n",
       "[5197 rows x 20 columns]"
      ],
      "text/html": [
       "<div>\n",
       "<style scoped>\n",
       "    .dataframe tbody tr th:only-of-type {\n",
       "        vertical-align: middle;\n",
       "    }\n",
       "\n",
       "    .dataframe tbody tr th {\n",
       "        vertical-align: top;\n",
       "    }\n",
       "\n",
       "    .dataframe thead th {\n",
       "        text-align: right;\n",
       "    }\n",
       "</style>\n",
       "<table border=\"1\" class=\"dataframe\">\n",
       "  <thead>\n",
       "    <tr style=\"text-align: right;\">\n",
       "      <th></th>\n",
       "      <th>isbn13</th>\n",
       "      <th>isbn10</th>\n",
       "      <th>title</th>\n",
       "      <th>authors</th>\n",
       "      <th>categories</th>\n",
       "      <th>thumbnail</th>\n",
       "      <th>description</th>\n",
       "      <th>published_year</th>\n",
       "      <th>average_rating</th>\n",
       "      <th>num_pages</th>\n",
       "      <th>ratings_count</th>\n",
       "      <th>title_and_subtitle</th>\n",
       "      <th>tagged_description</th>\n",
       "      <th>anger</th>\n",
       "      <th>disgust</th>\n",
       "      <th>fear</th>\n",
       "      <th>sadness</th>\n",
       "      <th>surprise</th>\n",
       "      <th>joy</th>\n",
       "      <th>neutral</th>\n",
       "    </tr>\n",
       "  </thead>\n",
       "  <tbody>\n",
       "    <tr>\n",
       "      <th>0</th>\n",
       "      <td>9780002005883</td>\n",
       "      <td>0002005883</td>\n",
       "      <td>Gilead</td>\n",
       "      <td>Marilynne Robinson</td>\n",
       "      <td>Fiction</td>\n",
       "      <td>http://books.google.com/books/content?id=KQZCP...</td>\n",
       "      <td>A NOVEL THAT READERS and critics have been eag...</td>\n",
       "      <td>2004.0</td>\n",
       "      <td>3.85</td>\n",
       "      <td>247.0</td>\n",
       "      <td>361.0</td>\n",
       "      <td>Gilead</td>\n",
       "      <td>9780002005883 A NOVEL THAT READERS and critics...</td>\n",
       "      <td>0.064134</td>\n",
       "      <td>0.273592</td>\n",
       "      <td>0.928168</td>\n",
       "      <td>0.932798</td>\n",
       "      <td>0.646216</td>\n",
       "      <td>0.967158</td>\n",
       "      <td>0.729602</td>\n",
       "    </tr>\n",
       "    <tr>\n",
       "      <th>1</th>\n",
       "      <td>9780002261982</td>\n",
       "      <td>0002261987</td>\n",
       "      <td>Spider's Web</td>\n",
       "      <td>Charles Osborne;Agatha Christie</td>\n",
       "      <td>Detective and mystery stories</td>\n",
       "      <td>http://books.google.com/books/content?id=gA5GP...</td>\n",
       "      <td>A new 'Christie for Christmas' -- a full-lengt...</td>\n",
       "      <td>2000.0</td>\n",
       "      <td>3.83</td>\n",
       "      <td>241.0</td>\n",
       "      <td>5164.0</td>\n",
       "      <td>Spider's Web: A Novel</td>\n",
       "      <td>9780002261982 A new 'Christie for Christmas' -...</td>\n",
       "      <td>0.612620</td>\n",
       "      <td>0.348285</td>\n",
       "      <td>0.942528</td>\n",
       "      <td>0.704422</td>\n",
       "      <td>0.887940</td>\n",
       "      <td>0.111690</td>\n",
       "      <td>0.252546</td>\n",
       "    </tr>\n",
       "    <tr>\n",
       "      <th>2</th>\n",
       "      <td>9780006178736</td>\n",
       "      <td>0006178731</td>\n",
       "      <td>Rage of angels</td>\n",
       "      <td>Sidney Sheldon</td>\n",
       "      <td>Fiction</td>\n",
       "      <td>http://books.google.com/books/content?id=FKo2T...</td>\n",
       "      <td>A memorable, mesmerizing heroine Jennifer -- b...</td>\n",
       "      <td>1993.0</td>\n",
       "      <td>3.93</td>\n",
       "      <td>512.0</td>\n",
       "      <td>29532.0</td>\n",
       "      <td>Rage of angels</td>\n",
       "      <td>9780006178736 A memorable, mesmerizing heroine...</td>\n",
       "      <td>0.064134</td>\n",
       "      <td>0.104007</td>\n",
       "      <td>0.972321</td>\n",
       "      <td>0.767238</td>\n",
       "      <td>0.549477</td>\n",
       "      <td>0.111690</td>\n",
       "      <td>0.078766</td>\n",
       "    </tr>\n",
       "    <tr>\n",
       "      <th>3</th>\n",
       "      <td>9780006280897</td>\n",
       "      <td>0006280897</td>\n",
       "      <td>The Four Loves</td>\n",
       "      <td>Clive Staples Lewis</td>\n",
       "      <td>Christian life</td>\n",
       "      <td>http://books.google.com/books/content?id=XhQ5X...</td>\n",
       "      <td>Lewis' work on the nature of love divides love...</td>\n",
       "      <td>2002.0</td>\n",
       "      <td>4.15</td>\n",
       "      <td>170.0</td>\n",
       "      <td>33684.0</td>\n",
       "      <td>The Four Loves</td>\n",
       "      <td>9780006280897 Lewis' work on the nature of lov...</td>\n",
       "      <td>0.351484</td>\n",
       "      <td>0.150722</td>\n",
       "      <td>0.360706</td>\n",
       "      <td>0.251882</td>\n",
       "      <td>0.732684</td>\n",
       "      <td>0.111690</td>\n",
       "      <td>0.078766</td>\n",
       "    </tr>\n",
       "    <tr>\n",
       "      <th>4</th>\n",
       "      <td>9780006280934</td>\n",
       "      <td>0006280935</td>\n",
       "      <td>The Problem of Pain</td>\n",
       "      <td>Clive Staples Lewis</td>\n",
       "      <td>Christian life</td>\n",
       "      <td>http://books.google.com/books/content?id=Kk-uV...</td>\n",
       "      <td>\"In The Problem of Pain, C.S. Lewis, one of th...</td>\n",
       "      <td>2002.0</td>\n",
       "      <td>4.09</td>\n",
       "      <td>176.0</td>\n",
       "      <td>37569.0</td>\n",
       "      <td>The Problem of Pain</td>\n",
       "      <td>9780006280934 \"In The Problem of Pain, C.S. Le...</td>\n",
       "      <td>0.081412</td>\n",
       "      <td>0.184495</td>\n",
       "      <td>0.095043</td>\n",
       "      <td>0.040564</td>\n",
       "      <td>0.884390</td>\n",
       "      <td>0.475880</td>\n",
       "      <td>0.078766</td>\n",
       "    </tr>\n",
       "    <tr>\n",
       "      <th>...</th>\n",
       "      <td>...</td>\n",
       "      <td>...</td>\n",
       "      <td>...</td>\n",
       "      <td>...</td>\n",
       "      <td>...</td>\n",
       "      <td>...</td>\n",
       "      <td>...</td>\n",
       "      <td>...</td>\n",
       "      <td>...</td>\n",
       "      <td>...</td>\n",
       "      <td>...</td>\n",
       "      <td>...</td>\n",
       "      <td>...</td>\n",
       "      <td>...</td>\n",
       "      <td>...</td>\n",
       "      <td>...</td>\n",
       "      <td>...</td>\n",
       "      <td>...</td>\n",
       "      <td>...</td>\n",
       "      <td>...</td>\n",
       "    </tr>\n",
       "    <tr>\n",
       "      <th>5192</th>\n",
       "      <td>9788172235222</td>\n",
       "      <td>8172235224</td>\n",
       "      <td>Mistaken Identity</td>\n",
       "      <td>Nayantara Sahgal</td>\n",
       "      <td>Indic fiction (English)</td>\n",
       "      <td>http://books.google.com/books/content?id=q-tKP...</td>\n",
       "      <td>On A Train Journey Home To North India After L...</td>\n",
       "      <td>2003.0</td>\n",
       "      <td>2.93</td>\n",
       "      <td>324.0</td>\n",
       "      <td>0.0</td>\n",
       "      <td>Mistaken Identity</td>\n",
       "      <td>9788172235222 On A Train Journey Home To North...</td>\n",
       "      <td>0.148208</td>\n",
       "      <td>0.030643</td>\n",
       "      <td>0.919165</td>\n",
       "      <td>0.255172</td>\n",
       "      <td>0.853721</td>\n",
       "      <td>0.980877</td>\n",
       "      <td>0.030656</td>\n",
       "    </tr>\n",
       "    <tr>\n",
       "      <th>5193</th>\n",
       "      <td>9788173031014</td>\n",
       "      <td>8173031010</td>\n",
       "      <td>Journey to the East</td>\n",
       "      <td>Hermann Hesse</td>\n",
       "      <td>Adventure stories</td>\n",
       "      <td>http://books.google.com/books/content?id=rq6JP...</td>\n",
       "      <td>This book tells the tale of a man who goes on ...</td>\n",
       "      <td>2002.0</td>\n",
       "      <td>3.70</td>\n",
       "      <td>175.0</td>\n",
       "      <td>24.0</td>\n",
       "      <td>Journey to the East</td>\n",
       "      <td>9788173031014 This book tells the tale of a ma...</td>\n",
       "      <td>0.064134</td>\n",
       "      <td>0.114383</td>\n",
       "      <td>0.051363</td>\n",
       "      <td>0.400262</td>\n",
       "      <td>0.883198</td>\n",
       "      <td>0.111690</td>\n",
       "      <td>0.227765</td>\n",
       "    </tr>\n",
       "    <tr>\n",
       "      <th>5194</th>\n",
       "      <td>9788179921623</td>\n",
       "      <td>817992162X</td>\n",
       "      <td>The Monk Who Sold His Ferrari: A Fable About F...</td>\n",
       "      <td>Robin Sharma</td>\n",
       "      <td>Health &amp; Fitness</td>\n",
       "      <td>http://books.google.com/books/content?id=c_7mf...</td>\n",
       "      <td>Wisdom to Create a Life of Passion, Purpose, a...</td>\n",
       "      <td>2003.0</td>\n",
       "      <td>3.82</td>\n",
       "      <td>198.0</td>\n",
       "      <td>1568.0</td>\n",
       "      <td>The Monk Who Sold His Ferrari: A Fable About F...</td>\n",
       "      <td>9788179921623 Wisdom to Create a Life of Passi...</td>\n",
       "      <td>0.009997</td>\n",
       "      <td>0.009929</td>\n",
       "      <td>0.339218</td>\n",
       "      <td>0.947779</td>\n",
       "      <td>0.375754</td>\n",
       "      <td>0.066685</td>\n",
       "      <td>0.057625</td>\n",
       "    </tr>\n",
       "    <tr>\n",
       "      <th>5195</th>\n",
       "      <td>9788185300535</td>\n",
       "      <td>8185300534</td>\n",
       "      <td>I Am that</td>\n",
       "      <td>Sri Nisargadatta Maharaj;Sudhakar S. Dikshit</td>\n",
       "      <td>Philosophy</td>\n",
       "      <td>http://books.google.com/books/content?id=Fv_JP...</td>\n",
       "      <td>This collection of the timeless teachings of o...</td>\n",
       "      <td>1999.0</td>\n",
       "      <td>4.51</td>\n",
       "      <td>531.0</td>\n",
       "      <td>104.0</td>\n",
       "      <td>I Am that: Talks with Sri Nisargadatta Maharaj</td>\n",
       "      <td>9788185300535 This collection of the timeless ...</td>\n",
       "      <td>0.064134</td>\n",
       "      <td>0.104007</td>\n",
       "      <td>0.459269</td>\n",
       "      <td>0.759457</td>\n",
       "      <td>0.951104</td>\n",
       "      <td>0.368111</td>\n",
       "      <td>0.078766</td>\n",
       "    </tr>\n",
       "    <tr>\n",
       "      <th>5196</th>\n",
       "      <td>9789027712059</td>\n",
       "      <td>9027712050</td>\n",
       "      <td>The Berlin Phenomenology</td>\n",
       "      <td>Georg Wilhelm Friedrich Hegel</td>\n",
       "      <td>History</td>\n",
       "      <td>http://books.google.com/books/content?id=Vy7Sk...</td>\n",
       "      <td>Since the three volume edition ofHegel's Philo...</td>\n",
       "      <td>1981.0</td>\n",
       "      <td>0.00</td>\n",
       "      <td>210.0</td>\n",
       "      <td>0.0</td>\n",
       "      <td>The Berlin Phenomenology</td>\n",
       "      <td>9789027712059 Since the three volume edition o...</td>\n",
       "      <td>0.064134</td>\n",
       "      <td>0.104007</td>\n",
       "      <td>0.051363</td>\n",
       "      <td>0.958549</td>\n",
       "      <td>0.915193</td>\n",
       "      <td>0.111690</td>\n",
       "      <td>0.078766</td>\n",
       "    </tr>\n",
       "  </tbody>\n",
       "</table>\n",
       "<p>5197 rows × 20 columns</p>\n",
       "</div>"
      ]
     },
     "execution_count": 33,
     "metadata": {},
     "output_type": "execute_result"
    }
   ],
   "execution_count": 33
  },
  {
   "metadata": {
    "ExecuteTime": {
     "end_time": "2025-04-04T06:56:00.382277Z",
     "start_time": "2025-04-04T06:56:00.111574Z"
    }
   },
   "cell_type": "code",
   "source": "books.to_csv(\"books_with_emotions.csv\",index=False)",
   "id": "15d3d4080b1eba4d",
   "outputs": [],
   "execution_count": 34
  },
  {
   "metadata": {},
   "cell_type": "code",
   "outputs": [],
   "execution_count": null,
   "source": "",
   "id": "bcf01ff11d8c6882"
  },
  {
   "metadata": {},
   "cell_type": "code",
   "outputs": [],
   "execution_count": null,
   "source": "",
   "id": "1fb536fae20d072d"
  }
 ],
 "metadata": {
  "kernelspec": {
   "display_name": "Python 3",
   "language": "python",
   "name": "python3"
  },
  "language_info": {
   "codemirror_mode": {
    "name": "ipython",
    "version": 2
   },
   "file_extension": ".py",
   "mimetype": "text/x-python",
   "name": "python",
   "nbconvert_exporter": "python",
   "pygments_lexer": "ipython2",
   "version": "2.7.6"
  }
 },
 "nbformat": 4,
 "nbformat_minor": 5
}
